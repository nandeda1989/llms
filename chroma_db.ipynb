{
 "cells": [
  {
   "cell_type": "code",
   "execution_count": 3,
   "id": "206ca79e",
   "metadata": {},
   "outputs": [],
   "source": [
    "# pip install chromadb"
   ]
  },
  {
   "cell_type": "code",
   "execution_count": 39,
   "id": "67f4e3cd",
   "metadata": {},
   "outputs": [],
   "source": [
    "import chromadb\n",
    "from chromadb.config import Settings\n",
    "\n",
    "# You can configure Chroma to save and load from your local machine. Data will be persisted automatically and loaded on start (if it exists).\n",
    "client = chromadb.PersistentClient(path=\"emopti_shared/chroma_vdb\", settings=Settings(allow_reset=True))"
   ]
  },
  {
   "cell_type": "code",
   "execution_count": 40,
   "id": "c2e44980",
   "metadata": {},
   "outputs": [
    {
     "data": {
      "text/plain": [
       "True"
      ]
     },
     "execution_count": 40,
     "metadata": {},
     "output_type": "execute_result"
    }
   ],
   "source": [
    "client.heartbeat()\n",
    "client.reset() # Empties and completely resets the database. ⚠️ This is destructive and not reversible.\n"
   ]
  },
  {
   "cell_type": "code",
   "execution_count": 28,
   "id": "63efb1bf",
   "metadata": {},
   "outputs": [
    {
     "name": "stdout",
     "output_type": "stream",
     "text": [
      "time taken to read csv: 13.630956649780273\n",
      "time taken for literal_eval: 0.22320938110351562\n"
     ]
    },
    {
     "name": "stderr",
     "output_type": "stream",
     "text": [
      "/tmp/ipykernel_41644/664382437.py:15: SettingWithCopyWarning: \n",
      "A value is trying to be set on a copy of a slice from a DataFrame.\n",
      "Try using .loc[row_indexer,col_indexer] = value instead\n",
      "\n",
      "See the caveats in the documentation: https://pandas.pydata.org/pandas-docs/stable/user_guide/indexing.html#returning-a-view-versus-a-copy\n",
      "  df_copy_bkp[\"embedding\"] = df_copy_bkp.embedding.apply(literal_eval)\n"
     ]
    },
    {
     "data": {
      "text/html": [
       "<div>\n",
       "<style scoped>\n",
       "    .dataframe tbody tr th:only-of-type {\n",
       "        vertical-align: middle;\n",
       "    }\n",
       "\n",
       "    .dataframe tbody tr th {\n",
       "        vertical-align: top;\n",
       "    }\n",
       "\n",
       "    .dataframe thead th {\n",
       "        text-align: right;\n",
       "    }\n",
       "</style>\n",
       "<table border=\"1\" class=\"dataframe\">\n",
       "  <thead>\n",
       "    <tr style=\"text-align: right;\">\n",
       "      <th></th>\n",
       "      <th>PT_Visit_ID_Hashed</th>\n",
       "      <th>PT_ID_Hashed</th>\n",
       "      <th>Pt_Arrival_Method</th>\n",
       "      <th>Pt_Complaint</th>\n",
       "      <th>Pt_Triage_Acuity</th>\n",
       "      <th>Pt_Gender</th>\n",
       "      <th>Pt_Race</th>\n",
       "      <th>Pt_Ethnicity</th>\n",
       "      <th>Pt_Prime_ICD10</th>\n",
       "      <th>Pt_Secondary_ICD10</th>\n",
       "      <th>...</th>\n",
       "      <th>Arrival_TimeOfDay</th>\n",
       "      <th>Age_Group</th>\n",
       "      <th>Pt_DOB_Year</th>\n",
       "      <th>Systolic_BP</th>\n",
       "      <th>Diastolic_BP</th>\n",
       "      <th>emopti_grouped_disposition</th>\n",
       "      <th>grouped_arrival_method</th>\n",
       "      <th>bp_group</th>\n",
       "      <th>combined</th>\n",
       "      <th>embedding</th>\n",
       "    </tr>\n",
       "  </thead>\n",
       "  <tbody>\n",
       "    <tr>\n",
       "      <th>0</th>\n",
       "      <td>c1cf913b612ffce254b33e996aa49b0def330b033058a7...</td>\n",
       "      <td>e1866701283c7c46f57bff8b5d23c1d44fbbfca0a076a1...</td>\n",
       "      <td>Ambulance</td>\n",
       "      <td>FLANK PAIN</td>\n",
       "      <td>3.0</td>\n",
       "      <td>F</td>\n",
       "      <td>UNKNOWN</td>\n",
       "      <td>Choose not to disclose</td>\n",
       "      <td>O26.893</td>\n",
       "      <td>R10.2</td>\n",
       "      <td>...</td>\n",
       "      <td>12pm-6pm</td>\n",
       "      <td>20-40</td>\n",
       "      <td>1988.0</td>\n",
       "      <td>111.0</td>\n",
       "      <td>62.0</td>\n",
       "      <td>Left Against Medical Advice</td>\n",
       "      <td>ambulance</td>\n",
       "      <td>normal</td>\n",
       "      <td>Complaint: FLANK PAIN; Triage_Acuity: 3.0; Gen...</td>\n",
       "      <td>[0.009560050442814827, 0.002757575362920761, 0...</td>\n",
       "    </tr>\n",
       "    <tr>\n",
       "      <th>1</th>\n",
       "      <td>094a742f233f2699fe3125b34ee61421e3f5ae54e26ca2...</td>\n",
       "      <td>e1866701283c7c46f57bff8b5d23c1d44fbbfca0a076a1...</td>\n",
       "      <td>Car</td>\n",
       "      <td>DIZZINESS</td>\n",
       "      <td>3.0</td>\n",
       "      <td>F</td>\n",
       "      <td>UNKNOWN</td>\n",
       "      <td>Choose not to disclose</td>\n",
       "      <td>E86.0</td>\n",
       "      <td>D62</td>\n",
       "      <td>...</td>\n",
       "      <td>6pm-Midnight</td>\n",
       "      <td>20-40</td>\n",
       "      <td>1988.0</td>\n",
       "      <td>115.0</td>\n",
       "      <td>56.0</td>\n",
       "      <td>Discharged</td>\n",
       "      <td>private transport</td>\n",
       "      <td>normal</td>\n",
       "      <td>Complaint: DIZZINESS; Triage_Acuity: 3.0; Gend...</td>\n",
       "      <td>[0.011276663281023502, 0.003159793559461832, 0...</td>\n",
       "    </tr>\n",
       "  </tbody>\n",
       "</table>\n",
       "<p>2 rows × 29 columns</p>\n",
       "</div>"
      ],
      "text/plain": [
       "                                  PT_Visit_ID_Hashed  \\\n",
       "0  c1cf913b612ffce254b33e996aa49b0def330b033058a7...   \n",
       "1  094a742f233f2699fe3125b34ee61421e3f5ae54e26ca2...   \n",
       "\n",
       "                                        PT_ID_Hashed Pt_Arrival_Method  \\\n",
       "0  e1866701283c7c46f57bff8b5d23c1d44fbbfca0a076a1...         Ambulance   \n",
       "1  e1866701283c7c46f57bff8b5d23c1d44fbbfca0a076a1...               Car   \n",
       "\n",
       "  Pt_Complaint  Pt_Triage_Acuity Pt_Gender  Pt_Race            Pt_Ethnicity  \\\n",
       "0   FLANK PAIN               3.0         F  UNKNOWN  Choose not to disclose   \n",
       "1    DIZZINESS               3.0         F  UNKNOWN  Choose not to disclose   \n",
       "\n",
       "  Pt_Prime_ICD10 Pt_Secondary_ICD10  ... Arrival_TimeOfDay Age_Group  \\\n",
       "0        O26.893              R10.2  ...          12pm-6pm     20-40   \n",
       "1          E86.0                D62  ...      6pm-Midnight     20-40   \n",
       "\n",
       "  Pt_DOB_Year Systolic_BP  Diastolic_BP   emopti_grouped_disposition  \\\n",
       "0      1988.0       111.0          62.0  Left Against Medical Advice   \n",
       "1      1988.0       115.0          56.0                   Discharged   \n",
       "\n",
       "   grouped_arrival_method  bp_group  \\\n",
       "0               ambulance    normal   \n",
       "1       private transport    normal   \n",
       "\n",
       "                                            combined  \\\n",
       "0  Complaint: FLANK PAIN; Triage_Acuity: 3.0; Gen...   \n",
       "1  Complaint: DIZZINESS; Triage_Acuity: 3.0; Gend...   \n",
       "\n",
       "                                           embedding  \n",
       "0  [0.009560050442814827, 0.002757575362920761, 0...  \n",
       "1  [0.011276663281023502, 0.003159793559461832, 0...  \n",
       "\n",
       "[2 rows x 29 columns]"
      ]
     },
     "metadata": {},
     "output_type": "display_data"
    },
    {
     "data": {
      "text/plain": [
       "(10, 29)"
      ]
     },
     "execution_count": 28,
     "metadata": {},
     "output_type": "execute_result"
    }
   ],
   "source": [
    "import pandas as pd\n",
    "import time\n",
    "from ast import literal_eval\n",
    "\n",
    "datafile_path = \"./data/deidentified/aiipem_deidentified_embeddings_batch_0_to_10k.csv.gz\"\n",
    "\n",
    "start_time= time.time()\n",
    "df_copy = pd.read_csv(datafile_path)\n",
    "print(f\"time taken to read csv: {time.time()- start_time}\")\n",
    "\n",
    "df_copy_bkp = df_copy.iloc[0:10].copy()\n",
    "\n",
    "start_time= time.time()\n",
    "df_copy_bkp[\"embedding\"] = df_copy_bkp.embedding.apply(literal_eval)\n",
    "print(f\"time taken for literal_eval: {time.time()- start_time}\")\n",
    "\n",
    "display(df_copy_bkp.head(2))\n",
    "df_copy_bkp.shape"
   ]
  },
  {
   "cell_type": "code",
   "execution_count": 41,
   "id": "f59d6dfc",
   "metadata": {},
   "outputs": [],
   "source": [
    "collection = client.create_collection(name=\"emopti_search\")\n",
    "collection = client.get_collection(name=\"emopti_search\")"
   ]
  },
  {
   "cell_type": "code",
   "execution_count": 44,
   "id": "0dfeb314",
   "metadata": {},
   "outputs": [
    {
     "data": {
      "text/plain": [
       "10"
      ]
     },
     "execution_count": 44,
     "metadata": {},
     "output_type": "execute_result"
    }
   ],
   "source": [
    "collection.peek() # returns a list of the first 10 items in the collection\n",
    "collection.count() # returns the number of items in the collection"
   ]
  },
  {
   "cell_type": "code",
   "execution_count": null,
   "id": "7f4f58d3",
   "metadata": {},
   "outputs": [],
   "source": [
    "# collection = client.create_collection(\n",
    "#         name=\"collection_name\",\n",
    "#         metadata={\"hnsw:space\": \"cosine\"} # l2 is the default\n",
    "#     )"
   ]
  },
  {
   "cell_type": "code",
   "execution_count": 30,
   "id": "b482324e",
   "metadata": {},
   "outputs": [],
   "source": [
    "df_copy_bkp.head(2)\n",
    "ids = df_copy_bkp['PT_Visit_ID_Hashed'].values.tolist()\n",
    "embeddings = df_copy_bkp['embedding'].values.tolist()"
   ]
  },
  {
   "cell_type": "code",
   "execution_count": 43,
   "id": "934313f8",
   "metadata": {},
   "outputs": [],
   "source": [
    "collection.add(\n",
    "    embeddings=embeddings,\n",
    "    ids=ids\n",
    ")"
   ]
  },
  {
   "cell_type": "code",
   "execution_count": 47,
   "id": "9355ed77",
   "metadata": {},
   "outputs": [],
   "source": [
    "search_results = collection.query(\n",
    "    query_embeddings=[embeddings[0]],\n",
    "    n_results=10\n",
    ")"
   ]
  },
  {
   "cell_type": "code",
   "execution_count": 50,
   "id": "4b38c1e8",
   "metadata": {},
   "outputs": [
    {
     "data": {
      "text/plain": [
       "dict_keys(['ids', 'distances', 'metadatas', 'embeddings', 'documents', 'uris', 'data'])"
      ]
     },
     "execution_count": 50,
     "metadata": {},
     "output_type": "execute_result"
    }
   ],
   "source": [
    "search_results.keys()"
   ]
  },
  {
   "cell_type": "code",
   "execution_count": 54,
   "id": "c96f691e",
   "metadata": {},
   "outputs": [
    {
     "data": {
      "text/plain": [
       "[['c1cf913b612ffce254b33e996aa49b0def330b033058a782cb0d7e5de368a121',\n",
       "  'd688cd7ca9f8eb18c785645559fa0983d21220e4e2f170f675549c1f48bf03e8',\n",
       "  'a4a09bd3e9029d968c10a2a1a4d9afa6c46da103c7a8ea543f7714d593f17101',\n",
       "  '36a8f9e2e5ec3e1857677ee3f331e86c696bb609e556ea30df9df54bf578fd66',\n",
       "  '9c293f4ac80d2002f18b9941552789723ed606180be043506f37d1518d08371c',\n",
       "  'ac081e45ac7a7d22b5dce07e53f42f6bfddd4c4587ce14bd4dd3a81483333042',\n",
       "  '572c285eeb1a0af0fc77aa7c1e93cd6732131bf3c9da8f7a555d9a7996520504',\n",
       "  'd790d52b70a07c98a22d02d378f21b0c63d2bb5df3679191d5583e4985e36c6a',\n",
       "  '094a742f233f2699fe3125b34ee61421e3f5ae54e26ca27a490b74887dbc5c24',\n",
       "  'f752254be3760eb3164cf379f7fd29203990f6be3f493c7982e43b3fb4428b0a']]"
      ]
     },
     "execution_count": 54,
     "metadata": {},
     "output_type": "execute_result"
    }
   ],
   "source": [
    "search_results['ids']"
   ]
  },
  {
   "cell_type": "code",
   "execution_count": 52,
   "id": "e6c7a4fa",
   "metadata": {},
   "outputs": [
    {
     "data": {
      "text/plain": [
       "[[0.0,\n",
       "  0.013424319598557109,\n",
       "  0.017100975896066826,\n",
       "  0.018255842803678972,\n",
       "  0.10709413745519954,\n",
       "  0.11221140582404583,\n",
       "  0.11397947682826198,\n",
       "  0.11800902929476231,\n",
       "  0.15826637203662888,\n",
       "  0.16155678308740726]]"
      ]
     },
     "execution_count": 52,
     "metadata": {},
     "output_type": "execute_result"
    }
   ],
   "source": [
    "search_results['distances']"
   ]
  },
  {
   "cell_type": "code",
   "execution_count": null,
   "id": "692c3923",
   "metadata": {},
   "outputs": [],
   "source": []
  }
 ],
 "metadata": {
  "kernelspec": {
   "display_name": "Python 3",
   "language": "python",
   "name": "python3"
  },
  "language_info": {
   "codemirror_mode": {
    "name": "ipython",
    "version": 3
   },
   "file_extension": ".py",
   "mimetype": "text/x-python",
   "name": "python",
   "nbconvert_exporter": "python",
   "pygments_lexer": "ipython3",
   "version": "3.10.12"
  }
 },
 "nbformat": 4,
 "nbformat_minor": 5
}
