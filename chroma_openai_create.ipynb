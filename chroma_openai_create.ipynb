{
 "cells": [
  {
   "cell_type": "markdown",
   "id": "b7221a6e-7c68-4c4b-8993-0fd486ec8f21",
   "metadata": {},
   "source": [
    "#### Python Version"
   ]
  },
  {
   "cell_type": "code",
   "execution_count": null,
   "id": "e6e1191d-e270-4dd9-8e6e-8ae1e02e3060",
   "metadata": {},
   "outputs": [
    {
     "name": "stdout",
     "output_type": "stream",
     "text": [
      "3.10.12\n"
     ]
    }
   ],
   "source": [
    "from platform import python_version\n",
    "print(python_version())\n",
    "\n",
    "#ToDO - Need VM with python 3.10"
   ]
  },
  {
   "cell_type": "markdown",
   "id": "7294b685-bf06-4e30-bb44-b5b495323fd3",
   "metadata": {},
   "source": [
    "#### Install Libraries"
   ]
  },
  {
   "cell_type": "code",
   "execution_count": 23,
   "id": "302a5e8e-5227-44b2-ad38-09963d6d1c58",
   "metadata": {},
   "outputs": [],
   "source": [
    "# pip install ydata_profiling dtale\n",
    "from IPython.display import clear_output\n",
    "\n",
    "! pip install openai\n",
    "! pip install chromadb\n",
    "\n",
    "clear_output()"
   ]
  },
  {
   "cell_type": "markdown",
   "id": "d99e76ba-2f69-46c8-a1a7-2ebb33a14b02",
   "metadata": {},
   "source": [
    "#### Restart Kernel"
   ]
  },
  {
   "cell_type": "code",
   "execution_count": 6,
   "id": "54fa32aa-fd1d-4818-88e6-526940d0c263",
   "metadata": {},
   "outputs": [],
   "source": [
    "# import IPython\n",
    "\n",
    "# app = IPython.Application.instance()\n",
    "# app.kernel.do_shutdown(True)"
   ]
  },
  {
   "cell_type": "markdown",
   "id": "156e3e33",
   "metadata": {},
   "source": [
    "#### Formatting"
   ]
  },
  {
   "cell_type": "code",
   "execution_count": 1,
   "id": "23cdf2d5",
   "metadata": {},
   "outputs": [],
   "source": [
    "bold_s = \"\\033[1m\"\n",
    "bold_e = \"\\033[0m\""
   ]
  },
  {
   "cell_type": "markdown",
   "id": "148a5906-9414-4ef2-96ff-f4ca174259c3",
   "metadata": {},
   "source": [
    "#### Imports and set Path"
   ]
  },
  {
   "cell_type": "code",
   "execution_count": 2,
   "id": "109e304f-3efa-44ff-9338-352f5d8fe520",
   "metadata": {},
   "outputs": [],
   "source": [
    "import pandas as pd\n",
    "import time\n",
    "from ast import literal_eval\n",
    "\n",
    "import chromadb\n",
    "from chromadb.config import Settings\n",
    "\n",
    "from keys.keys import OPENAI_KEY\n",
    "import openai"
   ]
  },
  {
   "cell_type": "code",
   "execution_count": 17,
   "id": "11471a2f",
   "metadata": {},
   "outputs": [],
   "source": [
    "# Set up your API credentials\n",
    "openai.api_key = OPENAI_KEY"
   ]
  },
  {
   "cell_type": "markdown",
   "id": "eef92302-e476-4c0f-bbf9-1f4a0862f7d2",
   "metadata": {
    "tags": []
   },
   "source": [
    "#### Global params"
   ]
  },
  {
   "cell_type": "code",
   "execution_count": 21,
   "id": "bdde3caa-a2aa-4522-b3f2-771240c07587",
   "metadata": {},
   "outputs": [
    {
     "name": "stdout",
     "output_type": "stream",
     "text": [
      "EMBEDDINGS_PATH: gs://emopti_shared/aiipem_deidentified_embeddings_batch_0_to_10k_vitals_labels_and_icd_desc.csv\n",
      "EMBEDDINGS_MODEL_NAME: text-embedding-ada-002\n",
      "INPUT_FILE_PATH: gs://emopti_shared/aiipem_deidentified_embeddings_batch_0_to_10k_vitals_labels_and_icd_desc.csv\n"
     ]
    }
   ],
   "source": [
    "EMBEDDINGS_PATH = 'gs://emopti_shared/aiipem_deidentified_embeddings_batch_0_to_10k_vitals_labels_and_icd_desc.csv'\n",
    "EMBEDDINGS_MODEL_NAME = \"text-embedding-ada-002\"\n",
    "\n",
    "print(f\"EMBEDDINGS_PATH: {EMBEDDINGS_PATH}\")\n",
    "print(f\"EMBEDDINGS_MODEL_NAME: {EMBEDDINGS_MODEL_NAME}\")\n",
    "\n",
    "COPY_TO_LOCAL = False\n",
    "\n",
    "#### Only if Copy to Local is True - Run in case reading from GCS doesn't work\n",
    "if COPY_TO_LOCAL:\n",
    "    LOCAL_PATH = './data'\n",
    "    LOCAL_FILE_PATH = EMBEDDINGS_PATH.replace(\"gs://emopti_shared\", LOCAL_PATH)\n",
    "    print(f\"LOCAL_FILE_PATH: {EMBEDDINGS_MODEL_NAME}\")\n",
    "\n",
    "    #### Copy embeddings to local folder\n",
    "    ! gsutil -m cp {EMBEDDINGS_PATH} {LOCAL_PATH}\n",
    "\n",
    "    INPUT_FILE_PATH = LOCAL_FILE_PATH\n",
    "\n",
    "else:\n",
    "    INPUT_FILE_PATH = EMBEDDINGS_PATH\n",
    "\n",
    "print(f\"INPUT_FILE_PATH: {INPUT_FILE_PATH}\")\n"
   ]
  },
  {
   "cell_type": "markdown",
   "id": "ea858e51-4ab4-4a43-8781-d05864a99ddf",
   "metadata": {},
   "source": [
    "#### Read Embeddings"
   ]
  },
  {
   "cell_type": "code",
   "execution_count": 11,
   "id": "65eda2d9-610c-42fb-b730-e4b9dead5cbf",
   "metadata": {},
   "outputs": [
    {
     "name": "stdout",
     "output_type": "stream",
     "text": [
      "time taken in reading data: 4.4795825481414795\n",
      "Sample Data: \n"
     ]
    },
    {
     "data": {
      "text/html": [
       "<div>\n",
       "<style scoped>\n",
       "    .dataframe tbody tr th:only-of-type {\n",
       "        vertical-align: middle;\n",
       "    }\n",
       "\n",
       "    .dataframe tbody tr th {\n",
       "        vertical-align: top;\n",
       "    }\n",
       "\n",
       "    .dataframe thead th {\n",
       "        text-align: right;\n",
       "    }\n",
       "</style>\n",
       "<table border=\"1\" class=\"dataframe\">\n",
       "  <thead>\n",
       "    <tr style=\"text-align: right;\">\n",
       "      <th></th>\n",
       "      <th>PT_Visit_ID_Hashed</th>\n",
       "      <th>combined</th>\n",
       "      <th>Pt_Prime_ICD10_Desc</th>\n",
       "      <th>Pt_Secondary_ICD10_Desc</th>\n",
       "      <th>Pt_Third_ICD10_Desc</th>\n",
       "      <th>embedding</th>\n",
       "    </tr>\n",
       "  </thead>\n",
       "  <tbody>\n",
       "    <tr>\n",
       "      <th>0</th>\n",
       "      <td>c1cf913b612ffce254b33e996aa49b0def330b033058a7...</td>\n",
       "      <td>Complaint: FLANK PAIN; Arrival_Method: Ambulan...</td>\n",
       "      <td>Maternal care for other conditions predominant...</td>\n",
       "      <td>Abdominal and pelvic pain</td>\n",
       "      <td>NaN</td>\n",
       "      <td>[0.0032147050369530916, 0.002123788231983781, ...</td>\n",
       "    </tr>\n",
       "    <tr>\n",
       "      <th>1</th>\n",
       "      <td>094a742f233f2699fe3125b34ee61421e3f5ae54e26ca2...</td>\n",
       "      <td>Complaint: DIZZINESS; Arrival_Method: Car; Gro...</td>\n",
       "      <td>Volume depletion</td>\n",
       "      <td>Acute posthemorrhagic anemia</td>\n",
       "      <td>Hematuria</td>\n",
       "      <td>[0.010029399767518044, 0.003674413776025176, 0...</td>\n",
       "    </tr>\n",
       "  </tbody>\n",
       "</table>\n",
       "</div>"
      ],
      "text/plain": [
       "                                  PT_Visit_ID_Hashed  \\\n",
       "0  c1cf913b612ffce254b33e996aa49b0def330b033058a7...   \n",
       "1  094a742f233f2699fe3125b34ee61421e3f5ae54e26ca2...   \n",
       "\n",
       "                                            combined  \\\n",
       "0  Complaint: FLANK PAIN; Arrival_Method: Ambulan...   \n",
       "1  Complaint: DIZZINESS; Arrival_Method: Car; Gro...   \n",
       "\n",
       "                                 Pt_Prime_ICD10_Desc  \\\n",
       "0  Maternal care for other conditions predominant...   \n",
       "1                                   Volume depletion   \n",
       "\n",
       "        Pt_Secondary_ICD10_Desc Pt_Third_ICD10_Desc  \\\n",
       "0     Abdominal and pelvic pain                 NaN   \n",
       "1  Acute posthemorrhagic anemia           Hematuria   \n",
       "\n",
       "                                           embedding  \n",
       "0  [0.0032147050369530916, 0.002123788231983781, ...  \n",
       "1  [0.010029399767518044, 0.003674413776025176, 0...  "
      ]
     },
     "metadata": {},
     "output_type": "display_data"
    },
    {
     "name": "stdout",
     "output_type": "stream",
     "text": [
      "time taken for literal_eval: 89.83346438407898\n",
      "DF Shape : (10000, 6)\n"
     ]
    }
   ],
   "source": [
    "start_time = time.time()\n",
    "df = pd.read_csv(INPUT_FILE_PATH)\n",
    "\n",
    "print(f\"time taken in reading data: {time.time() - start_time}\")\n",
    "print(\"Sample Data: \")\n",
    "display(df.head(2))\n",
    "\n",
    "start_time= time.time()\n",
    "df[\"embedding\"] = df.embedding.apply(literal_eval)\n",
    "print(f\"time taken for literal_eval: {time.time()- start_time}\")\n",
    "\n",
    "print(f\"DF Shape : {df.shape}\")"
   ]
  },
  {
   "cell_type": "markdown",
   "id": "47fa3ee5-7c46-4a3c-8cda-3c6ff749acd9",
   "metadata": {},
   "source": [
    "#### Chroma DB"
   ]
  },
  {
   "cell_type": "code",
   "execution_count": 12,
   "id": "99a01e06-477e-4f73-b650-77511b85ded7",
   "metadata": {},
   "outputs": [
    {
     "name": "stdout",
     "output_type": "stream",
     "text": [
      "\n",
      "Create Chroma Client and Collection\n"
     ]
    },
    {
     "name": "stdout",
     "output_type": "stream",
     "text": [
      "\n",
      "number of items in the collection: 0\n"
     ]
    }
   ],
   "source": [
    "# PersistentClient\n",
    "print(f\"\\nCreate Chroma Client and Collection\")\n",
    "client = chromadb.PersistentClient(path=\"chroma_openai\", settings=Settings(allow_reset=True))\n",
    "client.reset() # Empties and completely resets the database. ⚠️ This is destructive and not reversible.\n",
    "\n",
    "collection = client.get_or_create_collection(name=\"emopti_search\", metadata={\"hnsw:space\": \"cosine\"})\n",
    "\n",
    "# print(f\"\\nlist of the first 10 items in the collection: {collection.peek()}\")\n",
    "print(f\"\\nnumber of items in the collection: {collection.count()}\")\n"
   ]
  },
  {
   "cell_type": "markdown",
   "id": "d92e2726",
   "metadata": {},
   "source": [
    "#### Add Embeddings to Collection"
   ]
  },
  {
   "cell_type": "code",
   "execution_count": 13,
   "id": "d8fe0b8e",
   "metadata": {},
   "outputs": [
    {
     "name": "stdout",
     "output_type": "stream",
     "text": [
      "\n",
      "number of items in the collection: 10000\n",
      "\n",
      "time taken in adding embeddings to collection: 20.8240385055542\n"
     ]
    }
   ],
   "source": [
    "start_time= time.time()\n",
    "\n",
    "ids = df['PT_Visit_ID_Hashed'].values.tolist()\n",
    "embeddings = df['embedding'].values.tolist()\n",
    "\n",
    "collection.add(\n",
    "    embeddings=embeddings,\n",
    "    ids=ids\n",
    ")\n",
    "\n",
    "# print(f\"\\nlist of the first 1 items in the collection: {collection.peek(1)}\")\n",
    "print(f\"\\nnumber of items in the collection: {collection.count()}\")\n",
    "\n",
    "print(f\"\\ntime taken in adding embeddings to collection: {time.time()- start_time}\")"
   ]
  },
  {
   "cell_type": "markdown",
   "id": "516ac5fd",
   "metadata": {},
   "source": [
    "#### Query DB"
   ]
  },
  {
   "cell_type": "code",
   "execution_count": 14,
   "id": "acf1eabc",
   "metadata": {},
   "outputs": [],
   "source": [
    "from typing import List\n",
    "def get_embedding(text: str, model=\"text-embedding-ada-002\", **kwargs) -> List[float]:\n",
    "\n",
    "    # replace newlines, which can negatively affect performance.\n",
    "    text = text.replace(\"\\n\", \" \")\n",
    "\n",
    "    response = openai.embeddings.create(input=[text], model=model, **kwargs)\n",
    "\n",
    "    return response.data[0].embedding"
   ]
  },
  {
   "cell_type": "code",
   "execution_count": 18,
   "id": "91dfeaa6",
   "metadata": {},
   "outputs": [],
   "source": [
    "# Test query\n",
    "patient_info = \"\"\"Complaint: 'cramping pain;\"\"\"\n",
    "test_embeddings = get_embedding(patient_info, model=EMBEDDINGS_MODEL_NAME)"
   ]
  },
  {
   "cell_type": "code",
   "execution_count": 19,
   "id": "1c5702a7",
   "metadata": {},
   "outputs": [],
   "source": [
    "search_results = collection.query(\n",
    "    query_embeddings=[test_embeddings],\n",
    "    n_results=5\n",
    ")"
   ]
  },
  {
   "cell_type": "code",
   "execution_count": 20,
   "id": "de5ee947",
   "metadata": {},
   "outputs": [
    {
     "name": "stdout",
     "output_type": "stream",
     "text": [
      "\n",
      "\u001b[1mSearch Patient\u001b[0m: Complaint: 'cramping pain;\n",
      "\n",
      "Top Matched Patients: \n",
      "\n",
      "\u001b[1mID\u001b[0m: 6c0a3480a8f7c8a1c5c552cfe2adddfad6a3b7c15f6fa839cf2df9370badd364\n",
      "\u001b[1mSimilariry\u001b[0m: 0.8340\n",
      "\n",
      "\u001b[1mID\u001b[0m: b2b0e44c052944ac55b4136de913a75bedc5a8aa31dbd4c36fc66b08a1e2f656\n",
      "\u001b[1mSimilariry\u001b[0m: 0.8314\n",
      "\n",
      "\u001b[1mID\u001b[0m: 9de4bab565738986855321f3fed7b7e4d91daff43024924f0820862a4cde9866\n",
      "\u001b[1mSimilariry\u001b[0m: 0.8314\n",
      "\n",
      "\u001b[1mID\u001b[0m: 0899222f45307e430cbd2d2f886e698aba2af86a880665e526bdf16bcb5231e2\n",
      "\u001b[1mSimilariry\u001b[0m: 0.8301\n",
      "\n",
      "\u001b[1mID\u001b[0m: 71fd3e9f934d4179371425994bdbc46a15a520eb5e29186e856453fa8fd45b82\n",
      "\u001b[1mSimilariry\u001b[0m: 0.8288\n",
      "\n"
     ]
    }
   ],
   "source": [
    "print(f\"\\n{bold_s}Search Patient{bold_e}: {patient_info}\")\n",
    "\n",
    "print(f\"\\nTop Matched Patients: \\n\")\n",
    "\n",
    "for id, distance in zip(search_results['ids'][0], search_results['distances'][0]):\n",
    "        \n",
    "    print(f\"{bold_s}ID{bold_e}: {id}\")\n",
    "    print(f\"{bold_s}Similariry{bold_e}: {(1-distance):.4f}\")\n",
    "    print()\n"
   ]
  },
  {
   "cell_type": "code",
   "execution_count": null,
   "id": "4d1cbbbf-d256-493c-b684-02380266d00e",
   "metadata": {},
   "outputs": [],
   "source": []
  }
 ],
 "metadata": {
  "kernelspec": {
   "display_name": "Python 3",
   "language": "python",
   "name": "python3"
  },
  "language_info": {
   "codemirror_mode": {
    "name": "ipython",
    "version": 3
   },
   "file_extension": ".py",
   "mimetype": "text/x-python",
   "name": "python",
   "nbconvert_exporter": "python",
   "pygments_lexer": "ipython3",
   "version": "3.10.12"
  }
 },
 "nbformat": 4,
 "nbformat_minor": 5
}
