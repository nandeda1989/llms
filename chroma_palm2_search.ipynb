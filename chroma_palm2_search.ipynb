{
 "cells": [
  {
   "cell_type": "markdown",
   "id": "b7221a6e-7c68-4c4b-8993-0fd486ec8f21",
   "metadata": {},
   "source": [
    "#### Python Version"
   ]
  },
  {
   "cell_type": "code",
   "execution_count": 1,
   "id": "e6e1191d-e270-4dd9-8e6e-8ae1e02e3060",
   "metadata": {},
   "outputs": [
    {
     "name": "stdout",
     "output_type": "stream",
     "text": [
      "3.10.12\n"
     ]
    }
   ],
   "source": [
    "from platform import python_version\n",
    "print(python_version())\n",
    "\n",
    "#ToDO - Need VM with python 3.10"
   ]
  },
  {
   "cell_type": "markdown",
   "id": "7294b685-bf06-4e30-bb44-b5b495323fd3",
   "metadata": {},
   "source": [
    "#### Install Libraries"
   ]
  },
  {
   "cell_type": "code",
   "execution_count": 2,
   "id": "302a5e8e-5227-44b2-ad38-09963d6d1c58",
   "metadata": {},
   "outputs": [],
   "source": [
    "# pip install ydata_profiling dtale\n",
    "from IPython.display import clear_output\n",
    "\n",
    "! pip install openai\n",
    "! pip install chromadb\n",
    "\n",
    "clear_output()"
   ]
  },
  {
   "cell_type": "markdown",
   "id": "156e3e33",
   "metadata": {},
   "source": [
    "#### Formatting"
   ]
  },
  {
   "cell_type": "code",
   "execution_count": 4,
   "id": "23cdf2d5",
   "metadata": {},
   "outputs": [],
   "source": [
    "bold_s = \"\\033[1m\"\n",
    "bold_e = \"\\033[0m\""
   ]
  },
  {
   "cell_type": "markdown",
   "id": "148a5906-9414-4ef2-96ff-f4ca174259c3",
   "metadata": {},
   "source": [
    "#### Imports and set Path"
   ]
  },
  {
   "cell_type": "code",
   "execution_count": 6,
   "id": "109e304f-3efa-44ff-9338-352f5d8fe520",
   "metadata": {},
   "outputs": [],
   "source": [
    "import chromadb\n",
    "from chromadb.config import Settings\n",
    "\n",
    "from vertexai.language_models import TextEmbeddingModel"
   ]
  },
  {
   "cell_type": "markdown",
   "id": "eef92302-e476-4c0f-bbf9-1f4a0862f7d2",
   "metadata": {
    "tags": []
   },
   "source": [
    "#### Global params"
   ]
  },
  {
   "cell_type": "code",
   "execution_count": 14,
   "id": "bdde3caa-a2aa-4522-b3f2-771240c07587",
   "metadata": {},
   "outputs": [
    {
     "name": "stdout",
     "output_type": "stream",
     "text": [
      "EMBEDDINGS_PATH: gs://roughdraft/villages/emopti/workshops/llm_patient_search/workers/chroma_vector_db/chroma_openai\n",
      "EMBEDDINGS_MODEL_NAME: text-embedding-ada-002\n",
      "CHROMA_DB_LOCAL_FOLDER_NAME: chroma_openai\n",
      "COLLECTION_NAME: emopti_search\n",
      "\n"
     ]
    },
    {
     "name": "stdout",
     "output_type": "stream",
     "text": [
      "CommandException: Destination URL must name a directory, bucket, or bucket\n",
      "subdirectory for the multiple source form of the cp command.\n",
      "CommandException: Destination URL must name a directory, bucket, or bucket\n",
      "subdirectory for the multiple source form of the cp command.\n",
      "CommandException: Destination URL must name a directory, bucket, or bucket\n",
      "subdirectory for the multiple source form of the cp command.\n",
      "CommandException: Destination URL must name a directory, bucket, or bucket\n",
      "subdirectory for the multiple source form of the cp command.\n",
      "CommandException: Destination URL must name a directory, bucket, or bucket\n",
      "subdirectory for the multiple source form of the cp command.\n",
      "CommandException: Destination URL must name a directory, bucket, or bucket\n",
      "subdirectory for the multiple source form of the cp command.\n",
      "CommandException: 6 files/objects could not be transferred.\n"
     ]
    }
   ],
   "source": [
    "CHROMA_DB_PATH = 'gs://roughdraft/villages/emopti/workshops/llm_patient_search/workers/chroma_vector_db/chroma_openai'\n",
    "EMBEDDINGS_MODEL_NAME = \"text-embedding-ada-002\"\n",
    "CHROMA_DB_LOCAL_FOLDER_NAME = \"chroma_openai\"\n",
    "COLLECTION_NAME = \"emopti_search\"\n",
    "\n",
    "print(f\"EMBEDDINGS_PATH: {CHROMA_DB_PATH}\")\n",
    "print(f\"EMBEDDINGS_MODEL_NAME: {EMBEDDINGS_MODEL_NAME}\")\n",
    "print(f\"CHROMA_DB_LOCAL_FOLDER_NAME: {CHROMA_DB_LOCAL_FOLDER_NAME}\")\n",
    "print(f\"COLLECTION_NAME: {COLLECTION_NAME}\")\n",
    "print()\n",
    "\n",
    "#### Copy DB to local folder\n",
    "! gsutil -m cp -r {CHROMA_DB_PATH} CHROMA_DB_LOCAL_FOLDER_NAME\n"
   ]
  },
  {
   "cell_type": "markdown",
   "id": "47fa3ee5-7c46-4a3c-8cda-3c6ff749acd9",
   "metadata": {},
   "source": [
    "#### Chroma DB"
   ]
  },
  {
   "cell_type": "code",
   "execution_count": 15,
   "id": "99a01e06-477e-4f73-b650-77511b85ded7",
   "metadata": {},
   "outputs": [
    {
     "name": "stdout",
     "output_type": "stream",
     "text": [
      "\n",
      "Create Chroma Client and Collection\n",
      "\n",
      "number of items in the collection: 10000\n"
     ]
    }
   ],
   "source": [
    "# PersistentClient\n",
    "print(f\"\\nCreate Chroma Client and Collection\")\n",
    "client = chromadb.PersistentClient(path= CHROMA_DB_LOCAL_FOLDER_NAME, settings=Settings(allow_reset=True))\n",
    "collection = client.get_or_create_collection(name=COLLECTION_NAME, metadata={\"hnsw:space\": \"cosine\"})\n",
    "\n",
    "# print(f\"\\nlist of the first 10 items in the collection: {collection.peek()}\")\n",
    "print(f\"\\nnumber of items in the collection: {collection.count()}\")\n"
   ]
  },
  {
   "cell_type": "markdown",
   "id": "516ac5fd",
   "metadata": {},
   "source": [
    "#### Query DB"
   ]
  },
  {
   "cell_type": "code",
   "execution_count": 18,
   "id": "91dfeaa6",
   "metadata": {},
   "outputs": [
    {
     "name": "stdout",
     "output_type": "stream",
     "text": [
      "\n",
      "\u001b[1mSearch Patient\u001b[0m: Complaint: 'cramping pain;\n",
      "\n",
      "Top Matched Patients: \n",
      "\n",
      "\u001b[1mID\u001b[0m: 6c0a3480a8f7c8a1c5c552cfe2adddfad6a3b7c15f6fa839cf2df9370badd364\n",
      "\u001b[1mSimilariry\u001b[0m: 0.8340\n",
      "\n",
      "\u001b[1mID\u001b[0m: b2b0e44c052944ac55b4136de913a75bedc5a8aa31dbd4c36fc66b08a1e2f656\n",
      "\u001b[1mSimilariry\u001b[0m: 0.8314\n",
      "\n",
      "\u001b[1mID\u001b[0m: 9de4bab565738986855321f3fed7b7e4d91daff43024924f0820862a4cde9866\n",
      "\u001b[1mSimilariry\u001b[0m: 0.8314\n",
      "\n",
      "\u001b[1mID\u001b[0m: 0899222f45307e430cbd2d2f886e698aba2af86a880665e526bdf16bcb5231e2\n",
      "\u001b[1mSimilariry\u001b[0m: 0.8301\n",
      "\n",
      "\u001b[1mID\u001b[0m: 71fd3e9f934d4179371425994bdbc46a15a520eb5e29186e856453fa8fd45b82\n",
      "\u001b[1mSimilariry\u001b[0m: 0.8288\n",
      "\n"
     ]
    }
   ],
   "source": [
    "# Test query\n",
    "# Test query\n",
    "patient_info = \"\"\"Complaint: 'cramping pain;\"\"\"\n",
    "\n",
    "embedding_model = TextEmbeddingModel.from_pretrained(EMBEDDINGS_MODEL_NAME)\n",
    "test_embeddings = embedding_model.get_embeddings([patient_info])[0].values\n",
    "\n",
    "search_results = collection.query(\n",
    "    query_embeddings=[test_embeddings],\n",
    "    n_results=5\n",
    ")\n",
    "\n",
    "print(f\"\\n{bold_s}Search Patient{bold_e}: {patient_info}\")\n",
    "\n",
    "print(f\"\\nTop Matched Patients: \\n\")\n",
    "\n",
    "for id, distance in zip(search_results['ids'][0], search_results['distances'][0]):\n",
    "        \n",
    "    print(f\"{bold_s}ID{bold_e}: {id}\")\n",
    "    print(f\"{bold_s}Similariry{bold_e}: {(1-distance):.4f}\")\n",
    "    print()\n"
   ]
  },
  {
   "cell_type": "code",
   "execution_count": null,
   "id": "4d1cbbbf-d256-493c-b684-02380266d00e",
   "metadata": {},
   "outputs": [],
   "source": []
  }
 ],
 "metadata": {
  "kernelspec": {
   "display_name": "Python 3",
   "language": "python",
   "name": "python3"
  },
  "language_info": {
   "codemirror_mode": {
    "name": "ipython",
    "version": 3
   },
   "file_extension": ".py",
   "mimetype": "text/x-python",
   "name": "python",
   "nbconvert_exporter": "python",
   "pygments_lexer": "ipython3",
   "version": "3.10.12"
  }
 },
 "nbformat": 4,
 "nbformat_minor": 5
}
