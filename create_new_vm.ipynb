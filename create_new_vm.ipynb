{
 "cells": [
  {
   "cell_type": "markdown",
   "metadata": {},
   "source": [
    "#### Step 1 -- Create VM Instance"
   ]
  },
  {
   "cell_type": "code",
   "execution_count": 5,
   "metadata": {},
   "outputs": [
    {
     "data": {
      "text/plain": [
       "<google.cloud.compute_v1.services.instances.client.InstancesClient.insert.<locals>._CustomOperation at 0x7eff34a142e0>"
      ]
     },
     "execution_count": 5,
     "metadata": {},
     "output_type": "execute_result"
    }
   ],
   "source": [
    "import os\n",
    "from google.cloud import compute_v1\n",
    "\n",
    "# os.environ[\"GOOGLE_APPLICATION_CREDENTIALS\"] = \"./keys/healthlab-genesis-c33bd58ae3e9.json\"\n",
    "\n",
    "COMPUTE_ENGINE_INSTANCE_CLIENT = compute_v1.InstancesClient()\n",
    "COMPUTE_ENGINE_IMAGE_CLIENT = compute_v1.ImagesClient()\n",
    "\n",
    "\n",
    "def get_compute_engine_image(project_id, vm_image_name):\n",
    "    image = COMPUTE_ENGINE_IMAGE_CLIENT.get(project='ml-images', image=vm_image_name)\n",
    "    return image\n",
    "\n",
    "\n",
    "def create_compute_engine_vm(project_id, vm_name, vm_zone, vm_machine_type, vm_image_name, vm_disk_size, metadata_items):\n",
    "    if not vm_image_name or vm_image_name.lower() == \"undefined\":\n",
    "        vm_image_name = \"base\"\n",
    "\n",
    "    vm_disk_image = \"https://www.googleapis.com/compute/v1/projects/{}/global/images/{}\".format('ml-images', vm_image_name)\n",
    "\n",
    "    # compute_engine_image = get_compute_engine_image(project_id, vm_image_name)\n",
    "    # compute_engine_image_disk_size = compute_engine_image.disk_size_gb\n",
    "\n",
    "    # # VM creation throws an error if disk size < image_disk_size\n",
    "    # if int(vm_disk_size) < int(compute_engine_image_disk_size):\n",
    "    #     vm_disk_size = compute_engine_image_disk_size\n",
    "\n",
    "    config = {\n",
    "        \"name\": vm_name,\n",
    "        \"machine_type\": vm_machine_type,\n",
    "        \"disks\": [\n",
    "            {\n",
    "                \"boot\": True,\n",
    "                \"auto_delete\": True,\n",
    "                \"initialize_params\": {\n",
    "                    \"source_image\": vm_disk_image,\n",
    "                    \"disk_size_gb\": vm_disk_size\n",
    "                }\n",
    "            }\n",
    "        ],\n",
    "        \"network_interfaces\": [{\n",
    "            \"network\": \"global/networks/default\",\n",
    "            \"access_configs\": [\n",
    "                {\n",
    "                    \"name\": \"External NAT\",\n",
    "                    \"type_\": \"ONE_TO_ONE_NAT\"\n",
    "                }\n",
    "            ]\n",
    "        }],\n",
    "        \"service_accounts\": [{\n",
    "            \"scopes\": [\n",
    "                \"https://www.googleapis.com/auth/compute\",\n",
    "                \"https://www.googleapis.com/auth/devstorage.read_write\",\n",
    "                \"https://www.googleapis.com/auth/logging.write\",\n",
    "                \"https://www.googleapis.com/auth/cloud-platform\"\n",
    "            ]\n",
    "        }],\n",
    "        \"metadata\": {\n",
    "            \"items\": metadata_items\n",
    "        }\n",
    "    }\n",
    "\n",
    "    vm_instance = COMPUTE_ENGINE_INSTANCE_CLIENT.insert(project=project_id, zone=vm_zone, instance_resource=config)\n",
    "    return vm_instance\n",
    "\n",
    "\n",
    "project_id = \"healthlab-genesis\"\n",
    "vm_name = \"llm-vm\"\n",
    "vm_zone = \"us-central1-c\"\n",
    "vm_machine_type = \"zones/{}/machineTypes/n1-standard-8\".format(vm_zone)\n",
    "vm_image_name = \"c0-deeplearning-common-cpu-v20240111-debian-11-py310\"\n",
    "vm_disk_size = \"50\"\n",
    "metadata_items = []\n",
    "\n",
    "create_compute_engine_vm(project_id, vm_name, vm_zone, vm_machine_type, vm_image_name, vm_disk_size, metadata_items)"
   ]
  },
  {
   "cell_type": "markdown",
   "metadata": {},
   "source": [
    "#### Step 2 - SSH Into VM"
   ]
  },
  {
   "cell_type": "code",
   "execution_count": null,
   "metadata": {},
   "outputs": [],
   "source": [
    "### SSH\n",
    "\n",
    "### Installed\n",
    "# openai\n",
    "# chromadb"
   ]
  },
  {
   "cell_type": "code",
   "execution_count": null,
   "metadata": {},
   "outputs": [],
   "source": []
  },
  {
   "cell_type": "code",
   "execution_count": 8,
   "metadata": {},
   "outputs": [
    {
     "name": "stdout",
     "output_type": "stream",
     "text": [
      "Created [https://www.googleapis.com/compute/v1/projects/healthlab-genesis/global/images/llm].\n",
      "NAME  PROJECT            FAMILY  DEPRECATED  STATUS\n",
      "llm   healthlab-genesis                      READY\n"
     ]
    }
   ],
   "source": [
    "new_image_name = 'llm'\n",
    "source_vm_name = 'llm-vm'\n",
    "source_vm_zone = 'us-central1-c'\n",
    "description = 'VM Image for LLM Experiments'\n",
    "! gcloud compute images create {new_image_name} --source-disk={source_vm_name} --source-disk-zone={source_vm_zone} --description=\"{description}\""
   ]
  },
  {
   "cell_type": "code",
   "execution_count": null,
   "metadata": {},
   "outputs": [],
   "source": []
  },
  {
   "cell_type": "markdown",
   "metadata": {},
   "source": []
  },
  {
   "cell_type": "code",
   "execution_count": null,
   "metadata": {},
   "outputs": [],
   "source": [
    "# Step 1:\n",
    "# import os\n",
    "# from google.cloud import compute_v1\n",
    "\n",
    "# os.environ[\"GOOGLE_APPLICATION_CREDENTIALS\"] = \"keys/healthlab-genesis-fedbe696c806.json\"\n",
    "\n",
    "# COMPUTE_ENGINE_INSTANCE_CLIENT = compute_v1.InstancesClient()\n",
    "# COMPUTE_ENGINE_IMAGE_CLIENT = compute_v1.ImagesClient()\n",
    "\n",
    "\n",
    "# def get_compute_engine_image(project_id, vm_image_name):\n",
    "#     image = COMPUTE_ENGINE_IMAGE_CLIENT.get(project=project_id, image=vm_image_name)\n",
    "#     return image\n",
    "\n",
    "\n",
    "# def create_compute_engine_vm(project_id, vm_name, vm_zone, vm_machine_type, vm_image_name, vm_disk_size, metadata_items):\n",
    "#     if not vm_image_name or vm_image_name.lower() == \"undefined\":\n",
    "#         vm_image_name = \"base\"\n",
    "\n",
    "#     vm_disk_image = \"https://www.googleapis.com/compute/v1/projects/{}/global/images/{}\".format(project_id, vm_image_name)\n",
    "\n",
    "#     compute_engine_image = get_compute_engine_image(project_id, vm_image_name)\n",
    "#     compute_engine_image_disk_size = compute_engine_image.disk_size_gb\n",
    "\n",
    "#     # VM creation throws an error if disk size < image_disk_size\n",
    "#     if int(vm_disk_size) < int(compute_engine_image_disk_size):\n",
    "#         vm_disk_size = compute_engine_image_disk_size\n",
    "\n",
    "#     config = {\n",
    "#         \"name\": vm_name,\n",
    "#         \"machine_type\": vm_machine_type,\n",
    "#         \"disks\": [\n",
    "#             {\n",
    "#                 \"boot\": True,\n",
    "#                 \"auto_delete\": True,\n",
    "#                 \"initialize_params\": {\n",
    "#                     \"source_image\": vm_disk_image,\n",
    "#                     \"disk_size_gb\": vm_disk_size\n",
    "#                 }\n",
    "#             }\n",
    "#         ],\n",
    "#         \"network_interfaces\": [{\n",
    "#             \"network\": \"global/networks/default\",\n",
    "#             \"access_configs\": [\n",
    "#                 {\n",
    "#                     \"name\": \"External NAT\",\n",
    "#                     \"type_\": \"ONE_TO_ONE_NAT\"\n",
    "#                 }\n",
    "#             ]\n",
    "#         }],\n",
    "#         \"service_accounts\": [{\n",
    "#             \"scopes\": [\n",
    "#                 \"https://www.googleapis.com/auth/compute\",\n",
    "#                 \"https://www.googleapis.com/auth/devstorage.read_write\",\n",
    "#                 \"https://www.googleapis.com/auth/logging.write\",\n",
    "#                 \"https://www.googleapis.com/auth/cloud-platform\"\n",
    "#             ]\n",
    "#         }],\n",
    "#         \"metadata\": {\n",
    "#             \"items\": metadata_items\n",
    "#         }\n",
    "#     }\n",
    "\n",
    "#     vm_instance = COMPUTE_ENGINE_INSTANCE_CLIENT.insert(project=project_id, zone=vm_zone, instance_resource=config)\n",
    "#     return vm_instance\n",
    "\n",
    "\n",
    "# project_id = \"healthlab-genesis\"\n",
    "# vm_name = \"test-vm\"\n",
    "# vm_zone = \"us-central1-c\"\n",
    "# vm_machine_type = \"zones/{}/machineTypes/n1-standard-8\".format(vm_zone)\n",
    "# vm_image_name = \"base\"\n",
    "# vm_disk_size = \"10\"\n",
    "# metadata_items = []\n",
    "\n",
    "# create_compute_engine_vm(project_id, vm_name, vm_zone, vm_machine_type, vm_image_name, vm_disk_size, metadata_items)\n",
    "# The above script will create a new compute engine VM in the healthlab-genesis project using the image provided.\n",
    "# You can download the service account JSON used from the secret-manager page in healthlab-genesis project. The secret name is “DEFAULT_SERVICE_ACCOUNT”\n",
    "# Step 2: SSH into the VM.\n",
    "# Step 3: Run the command “sudo su -“. This will switch you to the root user which the VMs use.\n",
    "# Step 4: Activate the conda environment using “source root/anaconda3/bin/activate” if not already activated.\n",
    "# Step 5: You can now install packages/new python version etc.\n",
    "# Step 6: Once done stop the VM.\n",
    "# Step 7: You can create a new image using the VM using the following command:\n",
    "# gcloud compute images create {new_image_name} --source-disk={source_vm_name} --source-disk-zone={source_vm_zone} --description=\"{description}\"\n",
    "# Step 8: Once the image is created and appears in the images list. Delete the source VM."
   ]
  }
 ],
 "metadata": {
  "kernelspec": {
   "display_name": "venv",
   "language": "python",
   "name": "python3"
  },
  "language_info": {
   "codemirror_mode": {
    "name": "ipython",
    "version": 3
   },
   "file_extension": ".py",
   "mimetype": "text/x-python",
   "name": "python",
   "nbconvert_exporter": "python",
   "pygments_lexer": "ipython3",
   "version": "3.10.12"
  }
 },
 "nbformat": 4,
 "nbformat_minor": 2
}
